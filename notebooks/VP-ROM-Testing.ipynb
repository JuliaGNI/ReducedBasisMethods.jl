{
 "cells": [
  {
   "cell_type": "code",
   "execution_count": 1,
   "source": [
    "using HDF5\n",
    "using FastGaussQuadrature\n",
    "using LaTeXStrings\n",
    "using LinearAlgebra\n",
    "using Particles\n",
    "using Random\n",
    "using ReducedBasisMethods\n",
    "using SparseArrays\n",
    "using Statistics"
   ],
   "outputs": [],
   "metadata": {}
  },
  {
   "cell_type": "code",
   "execution_count": 2,
   "source": [
    "fpath = \"../runs/BoT_Np5e4_k_010_050_np_10_T25_projections.h5\"\n",
    "\n",
    "params = read_sampling_parameters(fpath)\n",
    "\n",
    "μₜᵣₐᵢₙ = h5read(fpath, \"parameters/mu_train\")\n",
    "\n",
    "IP = IntegratorParameters(fpath)\n",
    "\n",
    "poisson = PoissonSolverPBSplines(fpath)\n",
    "\n",
    "Ψ = h5read(fpath, \"projections/Psi\");\n",
    "Ψₑ = h5read(fpath, \"projections/Psi_e\");\n",
    "Πₑ = sparse(h5read(fpath, \"projections/Pi_e\"));"
   ],
   "outputs": [],
   "metadata": {}
  },
  {
   "cell_type": "code",
   "execution_count": 3,
   "source": [
    "# Reference draw\n",
    "P₀ = ParticleList(h5read(fpath, \"initial_condition/x_0\"),\n",
    "                  h5read(fpath, \"initial_condition/v_0\"),\n",
    "                  h5read(fpath, \"initial_condition/w\") );"
   ],
   "outputs": [],
   "metadata": {}
  },
  {
   "cell_type": "code",
   "execution_count": 4,
   "source": [
    "params"
   ],
   "outputs": [
    {
     "data": {
      "text/plain": [
       "(κ = 0.3, ε = 0.03, a = 0.1, v₀ = 4.5, σ = 0.5, χ = 1.0)"
      ]
     },
     "metadata": {},
     "output_type": "display_data"
    }
   ],
   "metadata": {}
  },
  {
   "cell_type": "markdown",
   "source": [
    "# Test"
   ],
   "metadata": {}
  },
  {
   "cell_type": "code",
   "execution_count": 5,
   "source": [
    "μₜᵣₐᵢₙ"
   ],
   "outputs": [
    {
     "data": {
      "text/plain": [
       "10×5 Matrix{Float64}:\n",
       " 0.1       0.03  0.1  4.5  0.5\n",
       " 0.144444  0.03  0.1  4.5  0.5\n",
       " 0.188889  0.03  0.1  4.5  0.5\n",
       " 0.233333  0.03  0.1  4.5  0.5\n",
       " 0.277778  0.03  0.1  4.5  0.5\n",
       " 0.322222  0.03  0.1  4.5  0.5\n",
       " 0.366667  0.03  0.1  4.5  0.5\n",
       " 0.411111  0.03  0.1  4.5  0.5\n",
       " 0.455556  0.03  0.1  4.5  0.5\n",
       " 0.5       0.03  0.1  4.5  0.5"
      ]
     },
     "metadata": {},
     "output_type": "display_data"
    }
   ],
   "metadata": {}
  },
  {
   "cell_type": "code",
   "execution_count": 6,
   "source": [
    "nₜₑₛₜ = 10\n",
    "κₜₑₛₜ_ₘᵢₙ = 0.1; κₜₑₛₜ_ₘₐₓ = 0.5\n",
    "\n",
    "μₜₑₛₜ = zeros(nₜₑₛₜ, 5)\n",
    "for i in 1:nₜₑₛₜ\n",
    "    μₜₑₛₜ[i,:] = [κₜₑₛₜ_ₘᵢₙ, params.ε, params.a, params.v₀, params.σ]\n",
    "end\n",
    "\n",
    "λ = 0\n",
    "for i in 1:nₜₑₛₜ\n",
    "    if nₜₑₛₜ > 1\n",
    "        μₜₑₛₜ[i,1] = rand(1)[1]*(κₜₑₛₜ_ₘₐₓ - κₜₑₛₜ_ₘᵢₙ) + κₜₑₛₜ_ₘᵢₙ\n",
    "#         μₜₑₛₜ[i,1] = (1-λ)*κₜₑₛₜ_ₘᵢₙ + λ*κₜₑₛₜ_ₘₐₓ\n",
    "#         λ += 1/(nₜₑₛₜ-1)\n",
    "    end\n",
    "end  \n",
    "\n",
    "μₜₑₛₜ = μₜₑₛₜ[sortperm(μₜₑₛₜ[:, 1]), :]"
   ],
   "outputs": [
    {
     "data": {
      "text/plain": [
       "10×5 Matrix{Float64}:\n",
       " 0.106467  0.03  0.1  4.5  0.5\n",
       " 0.207656  0.03  0.1  4.5  0.5\n",
       " 0.241853  0.03  0.1  4.5  0.5\n",
       " 0.255618  0.03  0.1  4.5  0.5\n",
       " 0.271879  0.03  0.1  4.5  0.5\n",
       " 0.289805  0.03  0.1  4.5  0.5\n",
       " 0.3057    0.03  0.1  4.5  0.5\n",
       " 0.397155  0.03  0.1  4.5  0.5\n",
       " 0.413984  0.03  0.1  4.5  0.5\n",
       " 0.451935  0.03  0.1  4.5  0.5"
      ]
     },
     "metadata": {},
     "output_type": "display_data"
    }
   ],
   "metadata": {}
  },
  {
   "cell_type": "code",
   "execution_count": 7,
   "source": [
    "GC.gc()"
   ],
   "outputs": [],
   "metadata": {}
  },
  {
   "cell_type": "code",
   "execution_count": 8,
   "source": [
    "IPₜₑₛₜ = IntegratorParameters(IP.dt, IP.nₜ, IP.nₜ+1, IP.nₕ, IP.nₚ, nₜₑₛₜ)\n",
    "ICₜₑₛₜ = IntegratorCache(IPₜₑₛₜ);"
   ],
   "outputs": [],
   "metadata": {}
  },
  {
   "cell_type": "code",
   "execution_count": 9,
   "source": [
    "@time Rₜₑₛₜ = ReducedBasisMethods.integrate_vp(P₀, μₜₑₛₜ, params, poisson, IPₜₑₛₜ, ICₜₑₛₜ;\n",
    "                                              given_phi = false, save = true);\n",
    "# Xₜₑₛₜ = Rₜₑₛₜ.X\n",
    "# Vₜₑₛₜ = Rₜₑₛₜ.V\n",
    "# Φₜₑₛₜ = Rₜₑₛₜ.Φ;"
   ],
   "outputs": [
    {
     "output_type": "stream",
     "name": "stdout",
     "text": [
      "parameter nb. 1\n"
     ]
    },
    {
     "output_type": "stream",
     "name": "stdout",
     "text": [
      "parameter nb. 2\n"
     ]
    },
    {
     "output_type": "stream",
     "name": "stdout",
     "text": [
      "parameter nb. 3\n"
     ]
    },
    {
     "output_type": "stream",
     "name": "stdout",
     "text": [
      "parameter nb. 4\n"
     ]
    },
    {
     "output_type": "stream",
     "name": "stdout",
     "text": [
      "parameter nb. 5\n"
     ]
    },
    {
     "output_type": "stream",
     "name": "stdout",
     "text": [
      "parameter nb. 6\n"
     ]
    },
    {
     "output_type": "stream",
     "name": "stdout",
     "text": [
      "parameter nb. 7\n"
     ]
    },
    {
     "output_type": "stream",
     "name": "stdout",
     "text": [
      "parameter nb. 8\n"
     ]
    },
    {
     "output_type": "stream",
     "name": "stdout",
     "text": [
      "parameter nb. 9\n"
     ]
    },
    {
     "output_type": "stream",
     "name": "stdout",
     "text": [
      "parameter nb. 10\n"
     ]
    },
    {
     "output_type": "stream",
     "name": "stdout",
     "text": [
      " 12.094229 seconds (3.16 M allocations: 178.740 MiB, 0.37% gc time, 14.05% compilation time)\n"
     ]
    }
   ],
   "metadata": {}
  },
  {
   "cell_type": "code",
   "execution_count": 10,
   "source": [
    "Φₜₑₛₜ = copy(Rₜₑₛₜ.Φ)\n",
    "size(Φₜₑₛₜ)"
   ],
   "outputs": [
    {
     "data": {
      "text/plain": [
       "(16, 2510)"
      ]
     },
     "metadata": {},
     "output_type": "display_data"
    }
   ],
   "metadata": {}
  },
  {
   "cell_type": "code",
   "execution_count": 11,
   "source": [
    "# no saving\n",
    "@time ReducedBasisMethods.integrate_vp(P₀, μₜₑₛₜ, params, poisson, IPₜₑₛₜ, ICₜₑₛₜ;\n",
    "                                        given_phi = false, save = false);"
   ],
   "outputs": [
    {
     "output_type": "stream",
     "name": "stdout",
     "text": [
      "parameter nb. 1\n"
     ]
    },
    {
     "output_type": "stream",
     "name": "stdout",
     "text": [
      "parameter nb. 2\n"
     ]
    },
    {
     "output_type": "stream",
     "name": "stdout",
     "text": [
      "parameter nb. 3\n"
     ]
    },
    {
     "output_type": "stream",
     "name": "stdout",
     "text": [
      "parameter nb. 4\n"
     ]
    },
    {
     "output_type": "stream",
     "name": "stdout",
     "text": [
      "parameter nb. 5\n"
     ]
    },
    {
     "output_type": "stream",
     "name": "stdout",
     "text": [
      "parameter nb. 6\n"
     ]
    },
    {
     "output_type": "stream",
     "name": "stdout",
     "text": [
      "parameter nb. 7\n"
     ]
    },
    {
     "output_type": "stream",
     "name": "stdout",
     "text": [
      "parameter nb. 8\n"
     ]
    },
    {
     "output_type": "stream",
     "name": "stdout",
     "text": [
      "parameter nb. 9\n"
     ]
    },
    {
     "output_type": "stream",
     "name": "stdout",
     "text": [
      "parameter nb. 10\n"
     ]
    },
    {
     "output_type": "stream",
     "name": "stdout",
     "text": [
      "  9.667537 seconds (15.74 k allocations: 6.491 MiB)\n"
     ]
    }
   ],
   "metadata": {}
  },
  {
   "cell_type": "markdown",
   "source": [
    "# Reduced Model"
   ],
   "metadata": {}
  },
  {
   "cell_type": "code",
   "execution_count": 12,
   "source": [
    "k = size(Ψ)[2]\n",
    "kₑ = size(Ψₑ)[2]\n",
    "k, kₑ"
   ],
   "outputs": [
    {
     "data": {
      "text/plain": [
       "(131, 637)"
      ]
     },
     "metadata": {},
     "output_type": "display_data"
    }
   ],
   "metadata": {}
  },
  {
   "cell_type": "code",
   "execution_count": 13,
   "source": [
    "RIC = ReducedIntegratorCache(IPₜₑₛₜ, k, kₑ);"
   ],
   "outputs": [],
   "metadata": {}
  },
  {
   "cell_type": "code",
   "execution_count": 14,
   "source": [
    "ΨᵀPₑ = Ψ' * Ψₑ * inv(Πₑ' * Ψₑ)\n",
    "ΠₑᵀΨ = Πₑ' * Ψ;"
   ],
   "outputs": [],
   "metadata": {}
  },
  {
   "cell_type": "code",
   "execution_count": 15,
   "source": [
    "@time Rᵣₘ = reduced_integrate_vp(P₀, Ψ, ΨᵀPₑ, ΠₑᵀΨ, μₜₑₛₜ, params, poisson, IPₜₑₛₜ, RIC;\n",
    "                                   DEIM=true, given_phi = false, save = true);\n",
    "# Xᵣₘ = Ψ * Rᵣₘ.Zₓ\n",
    "# Vᵣₘ = Ψ * Rᵣₘ.Zᵥ\n",
    "# Φᵣₘ = Rᵣₘ.Φ;"
   ],
   "outputs": [
    {
     "output_type": "stream",
     "name": "stdout",
     "text": [
      "running parameter nb. 1 with chi = 0.35489090561437864\n",
      "running parameter nb. "
     ]
    },
    {
     "output_type": "stream",
     "name": "stdout",
     "text": [
      "2 with chi = 0.6921868648106393\n"
     ]
    },
    {
     "output_type": "stream",
     "name": "stdout",
     "text": [
      "running parameter nb. 3 with chi = 0.8061750353789653\n",
      "running parameter nb. "
     ]
    },
    {
     "output_type": "stream",
     "name": "stdout",
     "text": [
      "4 with chi = 0.8520608984337229\n"
     ]
    },
    {
     "output_type": "stream",
     "name": "stdout",
     "text": [
      "running parameter nb. 5 with chi = 0.9062638133319975\n",
      "running parameter nb. "
     ]
    },
    {
     "output_type": "stream",
     "name": "stdout",
     "text": [
      "6 with chi = 0.966017251073003\n"
     ]
    },
    {
     "output_type": "stream",
     "name": "stdout",
     "text": [
      "running parameter nb. 7 with chi = 1.0190002850029842\n",
      "running parameter nb. "
     ]
    },
    {
     "output_type": "stream",
     "name": "stdout",
     "text": [
      "8 with chi = 1.3238488450572565\n"
     ]
    },
    {
     "output_type": "stream",
     "name": "stdout",
     "text": [
      "running parameter nb. 9 with chi = 1.3799473384249095\n",
      "running parameter nb. "
     ]
    },
    {
     "output_type": "stream",
     "name": "stdout",
     "text": [
      "10 with chi = 1.506449277634938\n"
     ]
    },
    {
     "output_type": "stream",
     "name": "stdout",
     "text": [
      "  9.361020 seconds (1.82 M allocations: 1.781 GiB, 3.43% gc time, 11.64% compilation time)\n"
     ]
    }
   ],
   "metadata": {}
  },
  {
   "cell_type": "code",
   "execution_count": 16,
   "source": [
    "# no saving\n",
    "@time reduced_integrate_vp(P₀, Ψ, ΨᵀPₑ, ΠₑᵀΨ, μₜₑₛₜ, params, poisson, IPₜₑₛₜ, RIC;\n",
    "                            DEIM=true, given_phi = false, save=false);"
   ],
   "outputs": [
    {
     "output_type": "stream",
     "name": "stdout",
     "text": [
      "running parameter nb. 1 with chi = 0.35489090561437864\n",
      "running parameter nb. "
     ]
    },
    {
     "output_type": "stream",
     "name": "stdout",
     "text": [
      "2 with chi = 0.6921868648106393\n"
     ]
    },
    {
     "output_type": "stream",
     "name": "stdout",
     "text": [
      "running parameter nb. 3 with chi = 0.8061750353789653\n",
      "running parameter nb. "
     ]
    },
    {
     "output_type": "stream",
     "name": "stdout",
     "text": [
      "4 with chi = 0.8520608984337229\n"
     ]
    },
    {
     "output_type": "stream",
     "name": "stdout",
     "text": [
      "running parameter nb. 5 with chi = 0.9062638133319975\n",
      "running parameter nb. "
     ]
    },
    {
     "output_type": "stream",
     "name": "stdout",
     "text": [
      "6 with chi = 0.966017251073003\n"
     ]
    },
    {
     "output_type": "stream",
     "name": "stdout",
     "text": [
      "running parameter nb. 7 with chi = 1.0190002850029842\n",
      "running parameter nb. "
     ]
    },
    {
     "output_type": "stream",
     "name": "stdout",
     "text": [
      "8 with chi = 1.3238488450572565\n"
     ]
    },
    {
     "output_type": "stream",
     "name": "stdout",
     "text": [
      "running parameter nb. 9 with chi = 1.3799473384249095\n",
      "running parameter nb. "
     ]
    },
    {
     "output_type": "stream",
     "name": "stdout",
     "text": [
      "10 with chi = 1.506449277634938\n"
     ]
    },
    {
     "output_type": "stream",
     "name": "stdout",
     "text": [
      "  8.886311 seconds (33.78 k allocations: 1.681 GiB, 1.86% gc time)\n"
     ]
    }
   ],
   "metadata": {}
  },
  {
   "cell_type": "code",
   "execution_count": 17,
   "source": [
    "# Saving\n",
    "h5save(\"../runs/BoT_Np5e4_k_010_050_np_10_T25_DEIM.h5\", IPₜₑₛₜ, poisson, params, μₜᵣₐᵢₙ, μₜₑₛₜ, Rₜₑₛₜ, Rᵣₘ, Ψ);"
   ],
   "outputs": [],
   "metadata": {}
  },
  {
   "cell_type": "code",
   "execution_count": 18,
   "source": [
    "norm(Rᵣₘ.Φ - Φₜₑₛₜ)"
   ],
   "outputs": [
    {
     "data": {
      "text/plain": [
       "64.13801036761036"
      ]
     },
     "metadata": {},
     "output_type": "display_data"
    }
   ],
   "metadata": {}
  },
  {
   "cell_type": "code",
   "execution_count": 19,
   "source": [
    "norm(Rₜₑₛₜ.Φ - Φₜₑₛₜ)"
   ],
   "outputs": [
    {
     "data": {
      "text/plain": [
       "0.0"
      ]
     },
     "metadata": {},
     "output_type": "display_data"
    }
   ],
   "metadata": {}
  },
  {
   "cell_type": "code",
   "execution_count": 20,
   "source": [],
   "outputs": [],
   "metadata": {}
  }
 ],
 "metadata": {
  "@webio": {
   "lastCommId": null,
   "lastKernelId": null
  },
  "kernelspec": {
   "display_name": "Julia 1.6.0-rc3",
   "language": "julia",
   "name": "julia-1.6"
  },
  "language_info": {
   "file_extension": ".jl",
   "mimetype": "application/julia",
   "name": "julia",
   "version": "1.6.0"
  }
 },
 "nbformat": 4,
 "nbformat_minor": 2
}