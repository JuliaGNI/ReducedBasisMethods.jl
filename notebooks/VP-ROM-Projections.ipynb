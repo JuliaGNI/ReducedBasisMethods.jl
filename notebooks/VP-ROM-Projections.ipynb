{
 "cells": [
  {
   "cell_type": "code",
   "execution_count": 28,
   "source": [
    "using Plots, LinearAlgebra, HDF5, Random, FastGaussQuadrature, LaTeXStrings, Statistics"
   ],
   "outputs": [],
   "metadata": {}
  },
  {
   "cell_type": "code",
   "execution_count": 29,
   "source": [
    "include(\"../src/splines.jl\")\n",
    "include(\"../src/poisson_solver_splines.jl\")\n",
    "include(\"../src/bump_on_tail_distributions.jl\")\n",
    "include(\"../src/sampling.jl\")\n",
    "include(\"../src/time_marching.jl\")\n",
    "include(\"../src/h5routines.jl\")\n",
    "include(\"../src/visualisation.jl\");"
   ],
   "outputs": [],
   "metadata": {}
  },
  {
   "cell_type": "code",
   "execution_count": 30,
   "source": [
    "fpath = \"../runs/BoT_Np5e4_k_010_050_np_10_T25.h5\"\n",
    "\n",
    "μₛₐₘₚ = h5read(fpath, \"parameters/mu_samp\")\n",
    "μₜᵣₐᵢₙ = h5read(fpath, \"parameters/mu_train\")\n",
    "\n",
    "IP = IntegratorParameters(h5read(fpath, \"parameters/dt\"),\n",
    "                          h5read(fpath, \"parameters/n_t\"), \n",
    "                          h5read(fpath, \"parameters/n_s\"),\n",
    "                          h5read(fpath, \"parameters/n_h\"),\n",
    "                          h5read(fpath, \"parameters/N_p\")\n",
    "                          h5read(fpath, \"parameters/n_p\"),\n",
    "                            )\n",
    "\n",
    "S = PBSpline(h5read(fpath, \"parameters/p\"), IP.nₕ, 2.0*pi/μₛₐₘₚ[1])\n",
    "\n",
    "X = h5read(fpath, \"snapshots/X\");\n",
    "V = h5read(fpath, \"snapshots/V\");\n",
    "E = h5read(fpath, \"snapshots/E\");\n",
    "# D = h5read(fpath, \"snapshots/D\");\n",
    "# Φ = h5read(fpath, \"snapshots/Phi\");"
   ],
   "outputs": [],
   "metadata": {}
  },
  {
   "cell_type": "code",
   "execution_count": 31,
   "source": [
    "# Reference draw\n",
    "P₀ = Particles(X[:,1], V[:,1], ones(IP.Nₚ) .* S.L ./ IP.Nₚ);"
   ],
   "outputs": [],
   "metadata": {}
  },
  {
   "cell_type": "code",
   "execution_count": 32,
   "source": [
    "μₛₐₘₚ' "
   ],
   "outputs": [
    {
     "output_type": "execute_result",
     "data": {
      "text/plain": [
       "1×5 adjoint(::Vector{Float64}) with eltype Float64:\n",
       " 0.3  0.03  0.1  4.5  0.5"
      ]
     },
     "metadata": {},
     "execution_count": 32
    }
   ],
   "metadata": {}
  },
  {
   "cell_type": "code",
   "execution_count": 33,
   "source": [
    "μₜᵣₐᵢₙ"
   ],
   "outputs": [
    {
     "output_type": "execute_result",
     "data": {
      "text/plain": [
       "10×5 Matrix{Float64}:\n",
       " 0.1       0.03  0.1  4.5  0.5\n",
       " 0.144444  0.03  0.1  4.5  0.5\n",
       " 0.188889  0.03  0.1  4.5  0.5\n",
       " 0.233333  0.03  0.1  4.5  0.5\n",
       " 0.277778  0.03  0.1  4.5  0.5\n",
       " 0.322222  0.03  0.1  4.5  0.5\n",
       " 0.366667  0.03  0.1  4.5  0.5\n",
       " 0.411111  0.03  0.1  4.5  0.5\n",
       " 0.455556  0.03  0.1  4.5  0.5\n",
       " 0.5       0.03  0.1  4.5  0.5"
      ]
     },
     "metadata": {},
     "execution_count": 33
    }
   ],
   "metadata": {}
  },
  {
   "cell_type": "markdown",
   "source": [
    "# EVD"
   ],
   "metadata": {}
  },
  {
   "cell_type": "code",
   "execution_count": 34,
   "source": [
    "# XV = hcat(X, V);\n",
    "XV = copy(X)\n",
    "for p in 1:IP.nₚ\n",
    "    # XV = hcat(XV, V[:,1+(p-1)*IP.nₛ])\n",
    "    XV = hcat(XV, V[:,1+(p-1)*IP.nₛ]) #, E[:,p*IP.nₛ])\n",
    "    #print(1+(p-1)*IP.nₛ, \" \", p*IP.nₛ, \"\\n\" )\n",
    "end\n",
    "\n",
    "# clear \n",
    "X, V = 0, 0\n",
    "GC.gc()"
   ],
   "outputs": [],
   "metadata": {}
  },
  {
   "cell_type": "code",
   "execution_count": 35,
   "source": [
    "size(XV)"
   ],
   "outputs": [
    {
     "output_type": "execute_result",
     "data": {
      "text/plain": [
       "(5000, 2520)"
      ]
     },
     "metadata": {},
     "execution_count": 35
    }
   ],
   "metadata": {}
  },
  {
   "cell_type": "code",
   "execution_count": 36,
   "source": [
    "function sorteigen(evals::Vector{T},evecs::Matrix{T}) where {T<:Real}\n",
    "    p = sortperm(abs.(evals), lt=isless, rev=true)\n",
    "    return evals[p], evecs[:, p]\n",
    "end"
   ],
   "outputs": [
    {
     "output_type": "execute_result",
     "data": {
      "text/plain": [
       "sorteigen (generic function with 1 method)"
      ]
     },
     "metadata": {},
     "execution_count": 36
    }
   ],
   "metadata": {}
  },
  {
   "cell_type": "code",
   "execution_count": 37,
   "source": [
    "# @time F = eigen(Xₑₓₜ' * Xₑₓₜ);\n",
    "# Λ, Ω = sorteigen(F.values, F.vectors);\n",
    "@time F = eigen(XV' * XV);\n",
    "Λ, Ω = sorteigen(F.values, F.vectors);\n",
    "@time Fₑ = eigen(E' * E);\n",
    "Λₑ, Ωₑ = sorteigen(Fₑ.values, Fₑ.vectors);"
   ],
   "outputs": [
    {
     "output_type": "stream",
     "name": "stdout",
     "text": [
      "  3.755001 seconds (20 allocations: 194.703 MiB)\n",
      "  3.920807 seconds (20 allocations: 193.165 MiB, 0.68% gc time)\n"
     ]
    }
   ],
   "metadata": {}
  },
  {
   "cell_type": "code",
   "execution_count": 38,
   "source": [
    "# clear\n",
    "F, Fₑ = 0, 0\n",
    "GC.gc()"
   ],
   "outputs": [],
   "metadata": {}
  },
  {
   "cell_type": "code",
   "execution_count": 39,
   "source": [
    "plot(xlabel = L\"$i$\", ylabel = L\"$\\lambda_i$\", yscale = :log10, \n",
    "     grid = true, gridalpha = 0.5)\n",
    "plot!(abs.(Λ )[1:1000], linewidth = 2, alpha = 0.25, label = L\"$X$\")\n",
    "plot!(abs.(Λₑ)[1:1000], linewidth = 2, alpha = 0.5,  label = L\"$F$\")\n",
    "#savefig(\"../Presentations/SVDs_BoT.pdf\")"
   ],
   "outputs": [
    {
     "output_type": "execute_result",
     "data": {
      "image/png": "[encoded data removed]"
     },
     "metadata": {},
     "execution_count": 39
    }
   ],
   "metadata": {}
  },
  {
   "cell_type": "code",
   "execution_count": 43,
   "source": [
    "plot(xlabel = L\"$i$\", ylabel = L\"$\\lambda_i$\", yscale = :log10, \n",
    "     grid = true, gridalpha = 0.5, legend = :none)\n",
    "plot!(abs.(Λ ), linewidth = 2, alpha = 0.25, label = L\"$X_v$\")\n",
    "plot!(abs.(Λₑ), linewidth = 2, alpha = 0.5,  label = L\"$E$\")"
   ],
   "outputs": [
    {
     "output_type": "execute_result",
     "data": {
      "image/png": "[encoded data removed]"
     },
     "metadata": {},
     "execution_count": 43
    }
   ],
   "metadata": {}
  },
  {
   "cell_type": "markdown",
   "source": [
    "# Projection Matrices"
   ],
   "metadata": {}
  },
  {
   "cell_type": "code",
   "execution_count": 44,
   "source": [
    "function get_Ψ(S, Λ, Ω, tol, k=0)\n",
    "    E = sum(Λ)\n",
    "    Eᵣ = 0\n",
    "    if k == 0\n",
    "        k = 1\n",
    "        while 1 - (Eᵣ + Λ[k])/E > tol\n",
    "            Eᵣ += Λ[k]\n",
    "            k+=1\n",
    "        end\n",
    "    end\n",
    "    Ψ = S*Ω[:,1:k]\n",
    "    for i in 1:k\n",
    "        Ψ[:,i] ./= sqrt(abs.(Λ[i]))\n",
    "    end\n",
    "return k, Ψ\n",
    "end\n",
    "\n",
    "k, Ψ = get_Ψ(XV, Λ, Ω, 1e-9, 0)\n",
    "k"
   ],
   "outputs": [
    {
     "output_type": "execute_result",
     "data": {
      "text/plain": [
       "131"
      ]
     },
     "metadata": {},
     "execution_count": 44
    }
   ],
   "metadata": {}
  },
  {
   "cell_type": "code",
   "execution_count": 45,
   "source": [
    "kₑ, Ψₑ = get_Ψ(E, Λₑ, Ωₑ, 1e-5, 0)\n",
    "kₑ"
   ],
   "outputs": [
    {
     "output_type": "execute_result",
     "data": {
      "text/plain": [
       "637"
      ]
     },
     "metadata": {},
     "execution_count": 45
    }
   ],
   "metadata": {}
  },
  {
   "cell_type": "code",
   "execution_count": 46,
   "source": [
    "# # clear \n",
    "XV, E = 0, 0\n",
    "Λ, Λₑ, Ω, Ωₑ = 0, 0, 0, 0\n",
    "GC.gc()"
   ],
   "outputs": [],
   "metadata": {}
  },
  {
   "cell_type": "markdown",
   "source": [
    "# DEIM"
   ],
   "metadata": {}
  },
  {
   "cell_type": "code",
   "execution_count": 47,
   "source": [
    "function deim_get_Π(Ψ)\n",
    "    N, k = size(Ψ)\n",
    "    j = argmax(Ψ[:,1])\n",
    "    Π = zeros(N, k)\n",
    "    Π[j,1] = 1.0\n",
    "    r = zeros(N)\n",
    "\n",
    "    for i in 2:k\n",
    "        c  = @views (Π[:,1:(i-1)]' * Ψ[:,1:(i-1)]) \\ (Π[:,1:(i-1)]' * Ψ[:,i])\n",
    "        r .= @views Ψ[:,i] .- Ψ[:,1:(i-1)] * c\n",
    "        j = argmax(r)\n",
    "\n",
    "        Π[j,i] = 1.0\n",
    "    end\n",
    "    return Π\n",
    "end"
   ],
   "outputs": [
    {
     "output_type": "execute_result",
     "data": {
      "text/plain": [
       "deim_get_Π (generic function with 1 method)"
      ]
     },
     "metadata": {},
     "execution_count": 47
    }
   ],
   "metadata": {}
  },
  {
   "cell_type": "code",
   "execution_count": 48,
   "source": [
    "@time Πₑ = deim_get_Π(Ψₑ);"
   ],
   "outputs": [
    {
     "output_type": "stream",
     "name": "stdout",
     "text": [
      " 20.489619 seconds (366.68 k allocations: 1.353 GiB, 0.94% gc time, 0.58% compilation time)\n"
     ]
    }
   ],
   "metadata": {}
  },
  {
   "cell_type": "code",
   "execution_count": 49,
   "source": [
    "h5open(\"../runs/BoT_Np5e4_k_010_050_np_10_T25_projections.h5\", \"w\") do file\n",
    "    g = create_group(file, \"parameters\") # create a group\n",
    "    g[\"N_p\"] = IP.Nₚ\n",
    "    g[\"n_h\"] = S.nₕ\n",
    "    g[\"p\"] = S.p\n",
    "    g[\"dt\"] = IP.dt\n",
    "    g[\"n_t\"] = IP.nₜ\n",
    "    g[\"n_s\"] = IP.nₛ\n",
    "    g[\"n_p\"] = IP.nₚ\n",
    "    g[\"mu_samp\"] = μₛₐₘₚ             \n",
    "    g[\"mu_train\"] = μₜᵣₐᵢₙ\n",
    "    \n",
    "    g[\"k\"] = k\n",
    "    g[\"k_e\"] = kₑ\n",
    "         \n",
    "    f = create_group(file, \"projections\")\n",
    "    f[\"Psi\"] = Ψ\n",
    "    f[\"Psi_e\"] = Ψₑ\n",
    "    f[\"Pi_e\"] = Πₑ\n",
    "    \n",
    "    h = create_group(file, \"initial_condition\")\n",
    "    h[\"x_0\"] = P₀.x\n",
    "    h[\"v_0\"] = P₀.v\n",
    "    h[\"w\"] = P₀.w\n",
    "end;"
   ],
   "outputs": [],
   "metadata": {}
  },
  {
   "cell_type": "code",
   "execution_count": null,
   "source": [],
   "outputs": [],
   "metadata": {}
  }
 ],
 "metadata": {
  "@webio": {
   "lastCommId": null,
   "lastKernelId": null
  },
  "kernelspec": {
   "display_name": "Julia 1.6.1",
   "language": "julia",
   "name": "julia-1.6"
  },
  "language_info": {
   "file_extension": ".jl",
   "mimetype": "application/julia",
   "name": "julia",
   "version": "1.6.1"
  }
 },
 "nbformat": 4,
 "nbformat_minor": 2
}